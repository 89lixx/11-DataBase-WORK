{
 "cells": [
  {
   "cell_type": "code",
   "execution_count": 1,
   "id": "095e9f2f",
   "metadata": {
    "execution": {
     "iopub.execute_input": "2022-11-10T07:49:19.322217Z",
     "iopub.status.busy": "2022-11-10T07:49:19.321031Z",
     "iopub.status.idle": "2022-11-10T07:49:20.493677Z",
     "shell.execute_reply": "2022-11-10T07:49:20.492567Z"
    },
    "papermill": {
     "duration": 1.180337,
     "end_time": "2022-11-10T07:49:20.496362",
     "exception": false,
     "start_time": "2022-11-10T07:49:19.316025",
     "status": "completed"
    },
    "tags": []
   },
   "outputs": [
    {
     "name": "stdout",
     "output_type": "stream",
     "text": [
      "[*] Downloading data...\r\n",
      "Traceback (most recent call last):\r\n",
      "  File \"../input/lxxcpvton/cp-vton/data_download.py\", line 39, in <module>\r\n",
      "    tarfile.open(\"data/viton_resize.tar.gz\").extractall(path='data/')\r\n",
      "  File \"/opt/conda/lib/python3.7/tarfile.py\", line 1575, in open\r\n",
      "    return func(name, \"r\", fileobj, **kwargs)\r\n",
      "  File \"/opt/conda/lib/python3.7/tarfile.py\", line 1639, in gzopen\r\n",
      "    fileobj = GzipFile(name, mode + \"b\", compresslevel, fileobj)\r\n",
      "  File \"/opt/conda/lib/python3.7/gzip.py\", line 168, in __init__\r\n",
      "    fileobj = self.myfileobj = builtins.open(filename, mode or 'rb')\r\n",
      "FileNotFoundError: [Errno 2] No such file or directory: 'data/viton_resize.tar.gz'\r\n"
     ]
    }
   ],
   "source": [
    "!python ../input/lxxcpvton/cp-vton/data_download.py"
   ]
  }
 ],
 "metadata": {
  "kernelspec": {
   "display_name": "Python 3",
   "language": "python",
   "name": "python3"
  },
  "language_info": {
   "codemirror_mode": {
    "name": "ipython",
    "version": 3
   },
   "file_extension": ".py",
   "mimetype": "text/x-python",
   "name": "python",
   "nbconvert_exporter": "python",
   "pygments_lexer": "ipython3",
   "version": "3.7.12"
  },
  "papermill": {
   "default_parameters": {},
   "duration": 9.425526,
   "end_time": "2022-11-10T07:49:21.019024",
   "environment_variables": {},
   "exception": null,
   "input_path": "__notebook__.ipynb",
   "output_path": "__notebook__.ipynb",
   "parameters": {},
   "start_time": "2022-11-10T07:49:11.593498",
   "version": "2.3.4"
  }
 },
 "nbformat": 4,
 "nbformat_minor": 5
}
